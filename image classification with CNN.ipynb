{
 "cells": [
  {
   "cell_type": "code",
   "execution_count": 1,
   "id": "fc9c6385",
   "metadata": {},
   "outputs": [],
   "source": [
    "import tensorflow as tf\n",
    "from tensorflow.keras import datasets,layers,models\n",
    "import matplotlib.pyplot as plt\n",
    "import numpy as np"
   ]
  },
  {
   "cell_type": "code",
   "execution_count": 3,
   "id": "86625b21",
   "metadata": {},
   "outputs": [
    {
     "name": "stdout",
     "output_type": "stream",
     "text": [
      "Downloading data from https://www.cs.toronto.edu/~kriz/cifar-10-python.tar.gz\n",
      "170500096/170498071 [==============================] - 26s 0us/step\n",
      "170508288/170498071 [==============================] - 26s 0us/step\n"
     ]
    },
    {
     "data": {
      "text/plain": [
       "(50000, 32, 32, 3)"
      ]
     },
     "execution_count": 3,
     "metadata": {},
     "output_type": "execute_result"
    }
   ],
   "source": [
    "(X_train,y_train), (X_test,y_test)=datasets.cifar10.load_data()\n",
    "X_train.shape"
   ]
  },
  {
   "cell_type": "code",
   "execution_count": 4,
   "id": "3eba2fa1",
   "metadata": {},
   "outputs": [
    {
     "data": {
      "text/plain": [
       "(10000, 32, 32, 3)"
      ]
     },
     "execution_count": 4,
     "metadata": {},
     "output_type": "execute_result"
    }
   ],
   "source": [
    "X_test.shape"
   ]
  },
  {
   "cell_type": "code",
   "execution_count": 12,
   "id": "58984206",
   "metadata": {},
   "outputs": [
    {
     "data": {
      "text/plain": [
       "array([[6],\n",
       "       [9],\n",
       "       [9],\n",
       "       [4],\n",
       "       [1]], dtype=uint8)"
      ]
     },
     "execution_count": 12,
     "metadata": {},
     "output_type": "execute_result"
    }
   ],
   "source": [
    "y_train[:5]"
   ]
  },
  {
   "cell_type": "code",
   "execution_count": 13,
   "id": "dee10020",
   "metadata": {},
   "outputs": [
    {
     "data": {
      "text/plain": [
       "array([6, 9, 9, 4, 1], dtype=uint8)"
      ]
     },
     "execution_count": 13,
     "metadata": {},
     "output_type": "execute_result"
    }
   ],
   "source": [
    "y_train=y_train.reshape(-1)\n",
    "y_train[:5]"
   ]
  },
  {
   "cell_type": "code",
   "execution_count": null,
   "id": "68a335d1",
   "metadata": {},
   "outputs": [],
   "source": []
  },
  {
   "cell_type": "code",
   "execution_count": null,
   "id": "5f08784f",
   "metadata": {},
   "outputs": [],
   "source": []
  },
  {
   "cell_type": "code",
   "execution_count": 14,
   "id": "9a988d88",
   "metadata": {},
   "outputs": [],
   "source": [
    "classes = [\"airplane\",\"automobile\",\"bird\",\"cat\",\"deer\",\"dog\",\"frog\",\"horse\",\"ship\",\"truck\"]"
   ]
  },
  {
   "cell_type": "code",
   "execution_count": 75,
   "id": "77797b59",
   "metadata": {},
   "outputs": [],
   "source": [
    "def plot_sample(x,y,index):\n",
    "    plt.figure(figsize=(15,2))\n",
    "    plt.imshow(X_train[3])\n",
    "    plt.xlabel(classes[y[index]])"
   ]
  },
  {
   "cell_type": "code",
   "execution_count": 76,
   "id": "fd7e3382",
   "metadata": {},
   "outputs": [
    {
     "data": {
      "image/png": "[encoded data removed]",
      "text/plain": [
       "<Figure size 1080x144 with 1 Axes>"
      ]
     },
     "metadata": {
      "needs_background": "light"
     },
     "output_type": "display_data"
    }
   ],
   "source": [
    "plot_sample(X_train,y_train,3)"
   ]
  },
  {
   "cell_type": "code",
   "execution_count": 26,
   "id": "8754d4b2",
   "metadata": {},
   "outputs": [],
   "source": [
    "X_train=X_train/255\n",
    "X_test=X_test/255"
   ]
  },
  {
   "cell_type": "code",
   "execution_count": 38,
   "id": "0c38ef98",
   "metadata": {},
   "outputs": [
    {
     "name": "stdout",
     "output_type": "stream",
     "text": [
      "Epoch 1/5\n",
      "1563/1563 [==============================] - 95s 59ms/step - loss: 1.8146 - accuracy: 0.3536\n",
      "Epoch 2/5\n",
      "1563/1563 [==============================] - 92s 59ms/step - loss: 1.6262 - accuracy: 0.4259\n",
      "Epoch 3/5\n",
      "1563/1563 [==============================] - 85s 55ms/step - loss: 1.5457 - accuracy: 0.4550\n",
      "Epoch 4/5\n",
      "1563/1563 [==============================] - 85s 55ms/step - loss: 1.4839 - accuracy: 0.4773\n",
      "Epoch 5/5\n",
      "1563/1563 [==============================] - 387s 247ms/step - loss: 1.4364 - accuracy: 0.4952\n"
     ]
    },
    {
     "data": {
      "text/plain": [
       "<keras.callbacks.History at 0x1fb1a52d4f0>"
      ]
     },
     "execution_count": 38,
     "metadata": {},
     "output_type": "execute_result"
    }
   ],
   "source": [
    "ann = models.Sequential([\n",
    "        layers.Flatten(input_shape=(32,32,3)),\n",
    "        layers.Dense(3000,activation='relu'),\n",
    "        layers.Dense(1000,activation='relu'),\n",
    "        layers.Dense(10,activation='sigmoid')\n",
    "    ])\n",
    "ann.compile(optimizer='SGD',\n",
    "              loss='sparse_categorical_crossentropy',\n",
    "              metrics=['accuracy'])\n",
    "\n",
    "ann.fit(X_train,y_train,epochs=5)\n",
    "      "
   ]
  },
  {
   "cell_type": "code",
   "execution_count": 39,
   "id": "93bf835d",
   "metadata": {},
   "outputs": [
    {
     "name": "stdout",
     "output_type": "stream",
     "text": [
      "313/313 [==============================] - 13s 26ms/step - loss: 1.4983 - accuracy: 0.4689\n"
     ]
    },
    {
     "data": {
      "text/plain": [
       "[1.4982856512069702, 0.46889999508857727]"
      ]
     },
     "execution_count": 39,
     "metadata": {},
     "output_type": "execute_result"
    }
   ],
   "source": [
    "ann.evaluate(X_test,y_test)"
   ]
  },
  {
   "cell_type": "code",
   "execution_count": 42,
   "id": "860aee4b",
   "metadata": {},
   "outputs": [
    {
     "name": "stdout",
     "output_type": "stream",
     "text": [
      "classification Report:\n",
      "               precision    recall  f1-score   support\n",
      "\n",
      "           0       0.69      0.30      0.42      1000\n",
      "           1       0.68      0.52      0.59      1000\n",
      "           2       0.31      0.52      0.39      1000\n",
      "           3       0.31      0.47      0.37      1000\n",
      "           4       0.46      0.31      0.37      1000\n",
      "           5       0.49      0.25      0.33      1000\n",
      "           6       0.56      0.50      0.53      1000\n",
      "           7       0.49      0.63      0.55      1000\n",
      "           8       0.48      0.74      0.58      1000\n",
      "           9       0.66      0.45      0.53      1000\n",
      "\n",
      "    accuracy                           0.47     10000\n",
      "   macro avg       0.51      0.47      0.47     10000\n",
      "weighted avg       0.51      0.47      0.47     10000\n",
      "\n"
     ]
    }
   ],
   "source": [
    "from sklearn.metrics import confusion_matrix, classification_report\n",
    "import numpy as np\n",
    "y_pred=ann.predict(X_test)\n",
    "y_pred_classes=[np.argmax(element) for element in y_pred]\n",
    "print('classification Report:\\n',classification_report(y_test,y_pred_classes))"
   ]
  },
  {
   "cell_type": "code",
   "execution_count": 45,
   "id": "004793cd",
   "metadata": {},
   "outputs": [],
   "source": [
    "cnn = models.Sequential([\n",
    "    \n",
    "        layers.Conv2D(filters=32,kernel_size=(3,3),activation='relu',input_shape=(32,32,3)),\n",
    "        layers.MaxPooling2D((2,2)),\n",
    "        \n",
    "        layers.Conv2D(filters=32,kernel_size=(3,3),activation='relu',input_shape=(32,32,3)),\n",
    "        layers.MaxPooling2D((2,2)),\n",
    "    \n",
    "        layers.Flatten(),\n",
    "        layers.Dense(64,activation='relu'),\n",
    "        layers.Dense(10,activation='softmax'),\n",
    "        \n",
    "    ])"
   ]
  },
  {
   "cell_type": "code",
   "execution_count": 88,
   "id": "a4057605",
   "metadata": {},
   "outputs": [
    {
     "name": "stdout",
     "output_type": "stream",
     "text": [
      "Epoch 1/10\n",
      "1563/1563 [==============================] - 42s 25ms/step - loss: 0.8980 - accuracy: 0.6888\n",
      "Epoch 2/10\n",
      "1563/1563 [==============================] - 38s 25ms/step - loss: 0.8540 - accuracy: 0.7042\n",
      "Epoch 3/10\n",
      "1563/1563 [==============================] - 49s 31ms/step - loss: 0.8183 - accuracy: 0.7165\n",
      "Epoch 4/10\n",
      "1563/1563 [==============================] - 51s 33ms/step - loss: 0.7893 - accuracy: 0.7262\n",
      "Epoch 5/10\n",
      "1563/1563 [==============================] - 50s 32ms/step - loss: 0.7563 - accuracy: 0.7383\n",
      "Epoch 6/10\n",
      "1563/1563 [==============================] - 40s 25ms/step - loss: 0.7335 - accuracy: 0.7454\n",
      "Epoch 7/10\n",
      "1563/1563 [==============================] - 41s 26ms/step - loss: 0.7097 - accuracy: 0.7537\n",
      "Epoch 8/10\n",
      "1563/1563 [==============================] - 42s 27ms/step - loss: 0.6860 - accuracy: 0.7598\n",
      "Epoch 9/10\n",
      "1563/1563 [==============================] - 41s 26ms/step - loss: 0.6654 - accuracy: 0.7681\n",
      "Epoch 10/10\n",
      "1563/1563 [==============================] - 40s 26ms/step - loss: 0.6432 - accuracy: 0.7755\n"
     ]
    },
    {
     "data": {
      "text/plain": [
       "<keras.callbacks.History at 0x1fb292bf1c0>"
      ]
     },
     "execution_count": 88,
     "metadata": {},
     "output_type": "execute_result"
    }
   ],
   "source": [
    "cnn.compile(optimizer='adam',\n",
    "              loss='sparse_categorical_crossentropy',\n",
    "              metrics=['accuracy'])\n",
    "\n",
    "cnn.fit(X_train,y_train,epochs=10)\n",
    "      "
   ]
  },
  {
   "cell_type": "code",
   "execution_count": 91,
   "id": "83e7bd29",
   "metadata": {},
   "outputs": [
    {
     "name": "stdout",
     "output_type": "stream",
     "text": [
      "313/313 [==============================] - 7s 20ms/step - loss: 0.9425 - accuracy: 0.6885\n"
     ]
    },
    {
     "data": {
      "text/plain": [
       "[0.9424773454666138, 0.6884999871253967]"
      ]
     },
     "execution_count": 91,
     "metadata": {},
     "output_type": "execute_result"
    }
   ],
   "source": [
    "cnn.evaluate(X_test,y_test)"
   ]
  },
  {
   "cell_type": "code",
   "execution_count": 94,
   "id": "68afec67",
   "metadata": {},
   "outputs": [
    {
     "data": {
      "image/png": "[encoded data removed]",
      "text/plain": [
       "<Figure size 1080x144 with 1 Axes>"
      ]
     },
     "metadata": {
      "needs_background": "light"
     },
     "output_type": "display_data"
    }
   ],
   "source": [
    "plot_sample(X_test,y_test,2)"
   ]
  },
  {
   "cell_type": "code",
   "execution_count": 95,
   "id": "4742a349",
   "metadata": {},
   "outputs": [
    {
     "data": {
      "text/plain": [
       "array([[6.4098254e-05, 1.2197636e-05, 2.3129683e-03, 9.0760064e-01,\n",
       "        9.5887139e-05, 8.6678594e-02, 2.2179582e-03, 8.6438531e-06,\n",
       "        9.7035896e-04, 3.8665650e-05],\n",
       "       [4.4357333e-02, 6.9653496e-02, 7.4799056e-05, 1.9206842e-08,\n",
       "        1.7334562e-05, 9.9445707e-10, 1.9398472e-08, 4.2867212e-09,\n",
       "        8.8253760e-01, 3.3594954e-03],\n",
       "       [2.4942961e-02, 7.6016837e-01, 1.0721155e-04, 2.0117125e-04,\n",
       "        1.2500373e-04, 2.2286184e-05, 4.2641008e-05, 7.0815891e-05,\n",
       "        1.8946382e-01, 2.4855653e-02],\n",
       "       [8.9697319e-01, 2.6151282e-04, 6.2900214e-03, 2.2896929e-04,\n",
       "        2.6015195e-03, 1.6552054e-06, 3.9513612e-05, 1.3596626e-04,\n",
       "        9.3395092e-02, 7.2554561e-05],\n",
       "       [1.3476847e-07, 4.5786855e-06, 1.7779102e-03, 3.3371922e-02,\n",
       "        8.5350722e-01, 2.4938674e-03, 1.0878741e-01, 2.6153995e-05,\n",
       "        3.0558371e-05, 2.2817837e-07]], dtype=float32)"
      ]
     },
     "execution_count": 95,
     "metadata": {},
     "output_type": "execute_result"
    }
   ],
   "source": [
    "y_pred=cnn.predict(X_test)\n",
    "y_pred[:5]"
   ]
  },
  {
   "cell_type": "code",
   "execution_count": 96,
   "id": "98043e33",
   "metadata": {},
   "outputs": [
    {
     "data": {
      "text/plain": [
       "[3, 8, 1, 0, 4]"
      ]
     },
     "execution_count": 96,
     "metadata": {},
     "output_type": "execute_result"
    }
   ],
   "source": [
    "y_classes=[np.argmax(element)for element in y_pred]\n",
    "y_classes[:5]"
   ]
  },
  {
   "cell_type": "code",
   "execution_count": 97,
   "id": "da73fbcc",
   "metadata": {},
   "outputs": [
    {
     "data": {
      "text/plain": [
       "array([3, 8, 8, 0, 6], dtype=uint8)"
      ]
     },
     "execution_count": 97,
     "metadata": {},
     "output_type": "execute_result"
    }
   ],
   "source": [
    "y_test[:5]"
   ]
  },
  {
   "cell_type": "code",
   "execution_count": 98,
   "id": "3d728c21",
   "metadata": {},
   "outputs": [
    {
     "data": {
      "text/plain": [
       "array([3, 8, 8, 0, 6], dtype=uint8)"
      ]
     },
     "execution_count": 98,
     "metadata": {},
     "output_type": "execute_result"
    }
   ],
   "source": [
    "y_test=y_test.reshape(-1)\n",
    "y_test[:5]"
   ]
  },
  {
   "cell_type": "code",
   "execution_count": 101,
   "id": "531a5e75",
   "metadata": {
    "scrolled": true
   },
   "outputs": [
    {
     "data": {
      "image/png": "[encoded data removed]",
      "text/plain": [
       "<Figure size 1080x144 with 1 Axes>"
      ]
     },
     "metadata": {
      "needs_background": "light"
     },
     "output_type": "display_data"
    }
   ],
   "source": [
    "plot_sample(X_test,y_test,2)"
   ]
  },
  {
   "cell_type": "code",
   "execution_count": 102,
   "id": "0b308556",
   "metadata": {},
   "outputs": [
    {
     "data": {
      "text/plain": [
       "'automobile'"
      ]
     },
     "execution_count": 102,
     "metadata": {},
     "output_type": "execute_result"
    }
   ],
   "source": [
    "classes[y_classes[2]]"
   ]
  },
  {
   "cell_type": "code",
   "execution_count": null,
   "id": "1ce2d629",
   "metadata": {},
   "outputs": [],
   "source": []
  }
 ],
 "metadata": {
  "kernelspec": {
   "display_name": "Python 3",
   "language": "python",
   "name": "python3"
  },
  "language_info": {
   "codemirror_mode": {
    "name": "ipython",
    "version": 3
   },
   "file_extension": ".py",
   "mimetype": "text/x-python",
   "name": "python",
   "nbconvert_exporter": "python",
   "pygments_lexer": "ipython3",
   "version": "3.8.8"
  }
 },
 "nbformat": 4,
 "nbformat_minor": 5
}
